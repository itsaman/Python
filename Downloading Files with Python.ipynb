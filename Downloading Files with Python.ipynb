{
 "cells": [
  {
   "cell_type": "code",
   "execution_count": 43,
   "metadata": {},
   "outputs": [
    {
     "name": "stdout",
     "output_type": "stream",
     "text": [
      "[WinError 183] Cannot create a file when that file already exists: 'C:\\\\Users\\\\an\\\\Documents\\\\Python_code\\\\Files_download'\n",
      "Divvy_Trips_2018_Q4.zip\n",
      "Divvy_Trips_2019_Q1.zip\n",
      "Divvy_Trips_2019_Q2.zip\n",
      "Divvy_Trips_2019_Q3.zip\n",
      "Divvy_Trips_2019_Q4.zip\n",
      "Divvy_Trips_2020_Q1.zip\n"
     ]
    }
   ],
   "source": [
    "import requests\n",
    "import pandas as pd\n",
    "import os\n",
    "import zipfile\n",
    "import glob\n",
    "\n",
    "\n",
    "download_uris = [\n",
    "    'https://divvy-tripdata.s3.amazonaws.com/Divvy_Trips_2018_Q4.zip',\n",
    "    'https://divvy-tripdata.s3.amazonaws.com/Divvy_Trips_2019_Q1.zip',\n",
    "    'https://divvy-tripdata.s3.amazonaws.com/Divvy_Trips_2019_Q2.zip',\n",
    "    'https://divvy-tripdata.s3.amazonaws.com/Divvy_Trips_2019_Q3.zip',\n",
    "    'https://divvy-tripdata.s3.amazonaws.com/Divvy_Trips_2019_Q4.zip',\n",
    "    'https://divvy-tripdata.s3.amazonaws.com/Divvy_Trips_2020_Q1.zip',\n",
    "    'https://divvy-tripdata.s3.amazonaws.com/Divvy_Trips_2220_Q1.zip'\n",
    "]\n",
    "\n",
    "#creating directory \n",
    "directory = 'Files_download'\n",
    "parent_dir  = 'C:\\\\Users\\\\an\\\\Documents\\\\Python_code'\n",
    "path  = os.path.join(parent_dir, directory)\n",
    "try:\n",
    "    os.mkdir(path)\n",
    "except OSError as error:\n",
    "    print(error) \n",
    "\n",
    "#Downloading zip file into newly created directory\n",
    "for i in range(len(download_uris)):\n",
    "    try:\n",
    "        res =  requests.get(download_uris[i])\n",
    "        if res.status_code == 200:\n",
    "            #finding file name from url\n",
    "            if download_uris[i].find('/'):\n",
    "                file_zip_name=download_uris[i].rsplit('/',1)[1]\n",
    "\n",
    "                with open(f'C:\\\\Users\\\\an\\\\Documents\\\\Python_code\\\\Files_download\\\\{file_zip_name}','wb') as f:\n",
    "                    f.write(res.content)                          \n",
    "    except:\n",
    "        pass;\n",
    "\n",
    "#listing all the files \n",
    "dir = 'C:\\\\Users\\\\an\\Documents\\\\Python_code\\\\Files_download'\n",
    "\n",
    "for files in os.listdir(dir):\n",
    "    print(files)\n",
    "    \n",
    "    zf = zipfile.ZipFile(f'C:\\\\Users\\\\an\\Documents\\\\Python_code\\\\Files_download\\\\{files}')\n",
    "    #finding csv file \n",
    "    csv_file=zf.namelist()[0]\n",
    "\n",
    "    #writing file to directory\n",
    "    read_file = pd.read_csv(zf.open(csv_file))\n",
    "    read_file.to_csv(f'C:\\\\Users\\\\an\\Documents\\\\Python_code\\\\Files_download\\\\{csv_file}')\n",
    "\n",
    "#removing zip files from the dirc\n",
    "remove_file = glob.glob(os.path.join(dir, '*zip'))\n",
    "for f in remove_file:\n",
    "    os.remove(f)\n",
    "\n"
   ]
  }
 ],
 "metadata": {
  "interpreter": {
   "hash": "a3304db5a260dcbda8440cf772ad02e7a4283521d398df2b132c70753f084c46"
  },
  "kernelspec": {
   "display_name": "Python 3.9.7 64-bit",
   "language": "python",
   "name": "python3"
  },
  "language_info": {
   "codemirror_mode": {
    "name": "ipython",
    "version": 3
   },
   "file_extension": ".py",
   "mimetype": "text/x-python",
   "name": "python",
   "nbconvert_exporter": "python",
   "pygments_lexer": "ipython3",
   "version": "3.9.7"
  },
  "orig_nbformat": 4
 },
 "nbformat": 4,
 "nbformat_minor": 2
}
