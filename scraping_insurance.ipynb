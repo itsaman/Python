{
 "cells": [
  {
   "cell_type": "markdown",
   "metadata": {},
   "source": [
    "## Goal\n",
    "-- Extract company names, CEOs, world ranks,<br>\n",
    "-- Market capitalization, Annual revenue, <br>\n",
    "-- number of employees, company URLs<br>"
   ]
  },
  {
   "cell_type": "code",
   "execution_count": 94,
   "metadata": {},
   "outputs": [
    {
     "data": {
      "text/plain": [
       "'<!DOCTYPE html>\\n<html lang=\"en\" dir=\"ltr\" prefix=\"content: http://purl.org/rss/1.0/modules/content/  dc: http://purl.org/dc/terms/  foaf: http://xmlns.com/foaf/0.1/  og: http://ogp.me/ns#  rdfs: http://www.w3.org/2000/01/rdf-schema#  schema: http://schema.org/  sioc: http://rdfs.org/sioc/ns#  sioct: http://rdfs.org/sioc/types#  skos: http://www.w3.org/2004/02/skos/core#  xsd: http://www.w3.org/2001/XMLSchema# \">\\n  <head>\\n    <meta charset=\"utf-8\"/>\\n<script async src=\"//pagead2.googlesyndication.com/pagead/js/adsbygoogle.js\"></script>\\n<script>(adsbygoogle=window.adsbygoogle||[]).push({google_ad_client:\"ca-pub-2407955258669770\",enable_page_level_ads:true});</script><script>window.google_analytics_uacct=\"UA-121331115-1\";(function(i,s,o,g,r,a,m){i[\"GoogleAnalyticsObject\"]=r;i[r]=i[r]||function(){(i[r].q=i[r].q||[]).push(arguments)},i[r].l=1*new Date();a=s.createElement(o),m=s.getElementsByTagName(o)[0];a.async=1;a.src=g;m.parentNode.insertBefore(a,m)})(window,document,\"script\",\"https://www'"
      ]
     },
     "execution_count": 94,
     "metadata": {},
     "output_type": "execute_result"
    }
   ],
   "source": [
    "import requests;\n",
    "\n",
    "bse_page = requests.get('https://www.value.today/bse_top_companies')\n",
    "bse_page.status_code\n",
    "\n",
    "bse_request = bse_page.text\n",
    "\n",
    "bse_request[:1000]"
   ]
  },
  {
   "cell_type": "code",
   "execution_count": 95,
   "metadata": {},
   "outputs": [
    {
     "data": {
      "text/plain": [
       "bs4.BeautifulSoup"
      ]
     },
     "execution_count": 95,
     "metadata": {},
     "output_type": "execute_result"
    }
   ],
   "source": [
    "from bs4 import BeautifulSoup as bs\n",
    "bse_doc = bs(bse_request,'html.parser')\n",
    "\n",
    "type(bse_doc)"
   ]
  },
  {
   "cell_type": "code",
   "execution_count": 172,
   "metadata": {},
   "outputs": [],
   "source": [
    "#function for fetching url\n",
    "def get_url(url):\n",
    "    response = requests.get(url)\n",
    "    if response.status_code != 200:\n",
    "        raise Exception(\"Enter Valid URL {}\".format(url))\n",
    "\n",
    "        page_content = response.text \n",
    "\n",
    "    bse_doc = bs(response.text,'html.parser')\n",
    "    return bse_doc"
   ]
  },
  {
   "cell_type": "code",
   "execution_count": 154,
   "metadata": {},
   "outputs": [
    {
     "data": {
      "text/plain": [
       "['RELIANCE INDUSTRIES',\n",
       " 'TATA CONSULTANCY SERVICES (TCS)',\n",
       " 'HDFC BANK',\n",
       " 'HDFC',\n",
       " 'HINDUSTAN UNILEVER',\n",
       " 'ICICI BANK',\n",
       " 'KOTAK MAHINDRA BANK',\n",
       " 'INFOSYS',\n",
       " 'STATE BANK OF INDIA',\n",
       " 'ITC']"
      ]
     },
     "execution_count": 154,
     "metadata": {},
     "output_type": "execute_result"
    }
   ],
   "source": [
    "#Company name\n",
    "company_list = bse_doc.find_all('div',class_ = 'field field--name-node-title field--type-ds field--label-hidden field--item')\n",
    "\n",
    "\n",
    "def company_names(company_list):\n",
    "\n",
    "    company = []\n",
    "    for tag in company_list:\n",
    "        company.append(tag.find('a').text.strip())\n",
    "    \n",
    "    return company\n",
    "        \n",
    "company_names(company_list)"
   ]
  },
  {
   "cell_type": "code",
   "execution_count": 155,
   "metadata": {},
   "outputs": [
    {
     "data": {
      "text/plain": [
       "['Mukesh Ambani',\n",
       " 'Rajesh Gopinathan',\n",
       " 'Sashidhar Jagdishan',\n",
       " 'Keki M Mistry',\n",
       " 'Sanjiv Mehta',\n",
       " 'Sandeep Bakhshi',\n",
       " 'Uday Kotak',\n",
       " 'Salil Parekh',\n",
       " 'Vinay M Tonse',\n",
       " 'Sanjiv Puri']"
      ]
     },
     "execution_count": 155,
     "metadata": {},
     "output_type": "execute_result"
    }
   ],
   "source": [
    "#CEOs\n",
    "\n",
    "ceo_list  = bse_doc.find_all('div',class_ = 'clearfix col-sm-12 field field--name-field-ceo field--type-entity-reference field--label-above')\n",
    "\n",
    "def names_of_ceo(ceo_list):\n",
    "    ceo_name = []\n",
    "    for i in ceo_list:\n",
    "        try:\n",
    "            name = i.find('a').text\n",
    "            ceo_name.append(name)\n",
    "        except ArithmeticError:\n",
    "            ceo_name(none)\n",
    "    return ceo_name\n",
    "\n",
    "names_of_ceo(ceo_list)\n",
    "\n"
   ]
  },
  {
   "cell_type": "code",
   "execution_count": 106,
   "metadata": {},
   "outputs": [
    {
     "data": {
      "text/plain": [
       "['52', '61', '128', '258', '179', '252', '409', '155', '355', '574']"
      ]
     },
     "execution_count": 106,
     "metadata": {},
     "output_type": "execute_result"
    }
   ],
   "source": [
    "#WORLD Rank\n",
    "\n",
    "world_list = bse_doc.find_all('div', class_ = 'clearfix col-sm-6 field field--name-field-world-rank-sep-01-2021- field--type-integer field--label-above')\n",
    "\n",
    "def world_rank(world_list):\n",
    "    world_ranks = []\n",
    "\n",
    "    for tag in world_list:\n",
    "        rank = tag.find('div', class_ = 'field--item')\n",
    "        world_ranks.append(rank.text)\n",
    "\n",
    "    return world_ranks\n",
    "      \n",
    "\n",
    "world_rank(world_list)"
   ]
  },
  {
   "cell_type": "code",
   "execution_count": 136,
   "metadata": {},
   "outputs": [
    {
     "data": {
      "text/plain": [
       "[214.91, 195.16, 121.6, 68.936, 89.838, 69.454, 48.37, 101.04, 53.704, 36.078]"
      ]
     },
     "execution_count": 136,
     "metadata": {},
     "output_type": "execute_result"
    }
   ],
   "source": [
    "#Market Captealization \n",
    "\n",
    "market_list = bse_doc.find_all('div', class_ = 'clearfix col-sm-6 field field--name-field-market-cap-aug-01-2021- field--type-float field--label-above')\n",
    "\n",
    "def market_fun(market_list):\n",
    "    market_cap = []\n",
    "    for tag in market_list:\n",
    "        try:\n",
    "            market = tag.find('div',class_='field--item').text\n",
    "            replace_market = market.replace(\"Billion USD\",\"\").strip()\n",
    "            market_cap.append(float(replace_market))\n",
    "        except ArithmeticError:\n",
    "            market_cap.append(None)\n",
    "\n",
    "    return market_cap\n",
    "\n",
    "market_fun(market_list)"
   ]
  },
  {
   "cell_type": "code",
   "execution_count": 138,
   "metadata": {},
   "outputs": [
    {
     "data": {
      "text/plain": [
       "[85696, 20404, 19119, 13224, 5031, 5216, 6539, 11803, 47090, 6286]"
      ]
     },
     "execution_count": 138,
     "metadata": {},
     "output_type": "execute_result"
    }
   ],
   "source": [
    "#Annual Revenue\n",
    "\n",
    "annual_list  = bse_doc.find_all('div', class_ = 'clearfix col-sm-12 field field--name-field-revenue-in-usd field--type-float field--label-inline')\n",
    "\n",
    "def annual_fun(annual_list):\n",
    "    annual_revenue = []\n",
    "    for tag in annual_list:\n",
    "        revenue = tag.find('div', class_ = 'field--item').text\n",
    "        replace_rev = revenue.replace(\",\",\"\").replace(\"Million USD\", \"\").strip()\n",
    "        annual_revenue.append(int(replace_rev))\n",
    "\n",
    "    return annual_revenue\n",
    "\n",
    "annual_fun(annual_list)\n"
   ]
  },
  {
   "cell_type": "code",
   "execution_count": 145,
   "metadata": {},
   "outputs": [
    {
     "data": {
      "text/plain": [
       "[195618, 528748, 116971, 3326, 21000, 131232, 60000, 279617, 249448, 27279]"
      ]
     },
     "execution_count": 145,
     "metadata": {},
     "output_type": "execute_result"
    }
   ],
   "source": [
    "#No of employees\n",
    "employees_list = bse_doc.find_all('div',class_='clearfix col-sm-12 field field--name-field-employee-count field--type-integer field--label-inline')\n",
    "\n",
    "def employee_func(employees_list):\n",
    "    no_of_employee = []\n",
    "    for tag in employees_list:\n",
    "        employee = tag.find('div', class_ = 'field--item').text\n",
    "        replace_emp = employee.replace(\",\",\"\")\n",
    "        no_of_employee.append(int(replace_emp))\n",
    "    return no_of_employee\n",
    "\n",
    "\n",
    "employee_func(employees_list)\n"
   ]
  },
  {
   "cell_type": "code",
   "execution_count": 153,
   "metadata": {},
   "outputs": [
    {
     "data": {
      "text/plain": [
       "['https://www.ril.com/',\n",
       " 'https://www.tcs.com/',\n",
       " 'https://www.hdfcbank.com/',\n",
       " 'https://www.hdfc.com/',\n",
       " 'https://www.hul.co.in/',\n",
       " 'https://www.icicibank.com/',\n",
       " 'https://www.kotak.com/en.html',\n",
       " 'https://www.infosys.com/',\n",
       " 'https://www.onlinesbi.com/',\n",
       " 'https://www.itcportal.com/']"
      ]
     },
     "execution_count": 153,
     "metadata": {},
     "output_type": "execute_result"
    }
   ],
   "source": [
    "#Company URLs\n",
    "\n",
    "url_list = bse_doc.find_all('div',class_ = 'clearfix col-sm-12 field field--name-field-company-website field--type-link field--label-above')\n",
    "\n",
    "url_list[0]\n",
    "\n",
    "def url_func(url_list):\n",
    "    company_url = []\n",
    "    for tag in url_list:\n",
    "        url = tag.find('a')['href']\n",
    "        company_url.append(url)\n",
    "    return company_url\n",
    "\n",
    "url_func(url_list)\n"
   ]
  },
  {
   "cell_type": "code",
   "execution_count": 173,
   "metadata": {},
   "outputs": [],
   "source": [
    "#Putting all together\n",
    "\n",
    "def scarp_page():\n",
    "\n",
    "    all_info_dic = {\n",
    "        'company_name':[],\n",
    "        'ceo_names':[],\n",
    "        'world_rank':[],\n",
    "        'market_cpa':[],\n",
    "        'annual_revenue':[],\n",
    "        'no_of_employees':[],\n",
    "        'companies_urls':[]\n",
    "    }\n",
    "\n",
    "    for page in range(0,52):\n",
    "        url = 'https://www.value.today/bse_top_companies'\n",
    "        \n",
    "        company_list = get_url(url).find_all('div',class_ = 'field field--name-node-title field--type-ds field--label-hidden field--item')\n",
    "        ceo_list  = get_url(url).find_all('div',class_ = 'clearfix col-sm-12 field field--name-field-ceo field--type-entity-reference field--label-above')\n",
    "        world_list = get_url(url).find_all('div', class_ = 'clearfix col-sm-6 field field--name-field-world-rank-sep-01-2021- field--type-integer field--label-above')\n",
    "        market_list = get_url(url).find_all('div', class_ = 'clearfix col-sm-6 field field--name-field-market-cap-aug-01-2021- field--type-float field--label-above')\n",
    "        annual_list  = get_url(url).find_all('div', class_ = 'clearfix col-sm-12 field field--name-field-revenue-in-usd field--type-float field--label-inline')\n",
    "        employees_list = get_url(url).find_all('div',class_='clearfix col-sm-12 field field--name-field-employee-count field--type-integer field--label-inline')\n",
    "        url_list = get_url(url).find_all('div',class_ = 'clearfix col-sm-12 field field--name-field-company-website field--type-link field--label-above')\n",
    "\n",
    "        all_info_dic['company_name'] += company_names(company_list)\n",
    "        all_info_dic['ceo_names'] += names_of_ceo(ceo_list)\n",
    "        all_info_dic['world_rank'] += world_rank(world_list)\n",
    "        all_info_dic['market_cpa'] += market_fun(market_list)\n",
    "        all_info_dic['annual_revenue'] += annual_fun(annual_list)\n",
    "        all_info_dic['no_of_employees'] += employee_func(employees_list)\n",
    "        all_info_dic['companies_urls'] += url_func(url_list)\n",
    "        page = page+1\n",
    "\n",
    "    return all_info_dic\n"
   ]
  },
  {
   "cell_type": "code",
   "execution_count": 169,
   "metadata": {},
   "outputs": [],
   "source": [
    "import pandas as pd;"
   ]
  },
  {
   "cell_type": "code",
   "execution_count": 174,
   "metadata": {},
   "outputs": [],
   "source": [
    "scrap_df = pd.DataFrame(scarp_page())"
   ]
  },
  {
   "cell_type": "code",
   "execution_count": 175,
   "metadata": {},
   "outputs": [
    {
     "data": {
      "text/html": [
       "<div>\n",
       "<style scoped>\n",
       "    .dataframe tbody tr th:only-of-type {\n",
       "        vertical-align: middle;\n",
       "    }\n",
       "\n",
       "    .dataframe tbody tr th {\n",
       "        vertical-align: top;\n",
       "    }\n",
       "\n",
       "    .dataframe thead th {\n",
       "        text-align: right;\n",
       "    }\n",
       "</style>\n",
       "<table border=\"1\" class=\"dataframe\">\n",
       "  <thead>\n",
       "    <tr style=\"text-align: right;\">\n",
       "      <th></th>\n",
       "      <th>company_name</th>\n",
       "      <th>ceo_names</th>\n",
       "      <th>world_rank</th>\n",
       "      <th>market_cpa</th>\n",
       "      <th>annual_revenue</th>\n",
       "      <th>no_of_employees</th>\n",
       "      <th>companies_urls</th>\n",
       "    </tr>\n",
       "  </thead>\n",
       "  <tbody>\n",
       "    <tr>\n",
       "      <th>0</th>\n",
       "      <td>RELIANCE INDUSTRIES</td>\n",
       "      <td>Mukesh Ambani</td>\n",
       "      <td>52</td>\n",
       "      <td>214.910</td>\n",
       "      <td>85696</td>\n",
       "      <td>195618</td>\n",
       "      <td>https://www.ril.com/</td>\n",
       "    </tr>\n",
       "    <tr>\n",
       "      <th>1</th>\n",
       "      <td>TATA CONSULTANCY SERVICES (TCS)</td>\n",
       "      <td>Rajesh Gopinathan</td>\n",
       "      <td>61</td>\n",
       "      <td>195.160</td>\n",
       "      <td>20404</td>\n",
       "      <td>528748</td>\n",
       "      <td>https://www.tcs.com/</td>\n",
       "    </tr>\n",
       "    <tr>\n",
       "      <th>2</th>\n",
       "      <td>HDFC BANK</td>\n",
       "      <td>Sashidhar Jagdishan</td>\n",
       "      <td>128</td>\n",
       "      <td>121.600</td>\n",
       "      <td>19119</td>\n",
       "      <td>116971</td>\n",
       "      <td>https://www.hdfcbank.com/</td>\n",
       "    </tr>\n",
       "    <tr>\n",
       "      <th>3</th>\n",
       "      <td>HDFC</td>\n",
       "      <td>Keki M Mistry</td>\n",
       "      <td>258</td>\n",
       "      <td>68.936</td>\n",
       "      <td>13224</td>\n",
       "      <td>3326</td>\n",
       "      <td>https://www.hdfc.com/</td>\n",
       "    </tr>\n",
       "    <tr>\n",
       "      <th>4</th>\n",
       "      <td>HINDUSTAN UNILEVER</td>\n",
       "      <td>Sanjiv Mehta</td>\n",
       "      <td>179</td>\n",
       "      <td>89.838</td>\n",
       "      <td>5031</td>\n",
       "      <td>21000</td>\n",
       "      <td>https://www.hul.co.in/</td>\n",
       "    </tr>\n",
       "    <tr>\n",
       "      <th>...</th>\n",
       "      <td>...</td>\n",
       "      <td>...</td>\n",
       "      <td>...</td>\n",
       "      <td>...</td>\n",
       "      <td>...</td>\n",
       "      <td>...</td>\n",
       "      <td>...</td>\n",
       "    </tr>\n",
       "    <tr>\n",
       "      <th>515</th>\n",
       "      <td>ICICI BANK</td>\n",
       "      <td>Sandeep Bakhshi</td>\n",
       "      <td>252</td>\n",
       "      <td>69.454</td>\n",
       "      <td>5216</td>\n",
       "      <td>131232</td>\n",
       "      <td>https://www.icicibank.com/</td>\n",
       "    </tr>\n",
       "    <tr>\n",
       "      <th>516</th>\n",
       "      <td>KOTAK MAHINDRA BANK</td>\n",
       "      <td>Uday Kotak</td>\n",
       "      <td>409</td>\n",
       "      <td>48.370</td>\n",
       "      <td>6539</td>\n",
       "      <td>60000</td>\n",
       "      <td>https://www.kotak.com/en.html</td>\n",
       "    </tr>\n",
       "    <tr>\n",
       "      <th>517</th>\n",
       "      <td>INFOSYS</td>\n",
       "      <td>Salil Parekh</td>\n",
       "      <td>155</td>\n",
       "      <td>101.040</td>\n",
       "      <td>11803</td>\n",
       "      <td>279617</td>\n",
       "      <td>https://www.infosys.com/</td>\n",
       "    </tr>\n",
       "    <tr>\n",
       "      <th>518</th>\n",
       "      <td>STATE BANK OF INDIA</td>\n",
       "      <td>Vinay M Tonse</td>\n",
       "      <td>355</td>\n",
       "      <td>53.704</td>\n",
       "      <td>47090</td>\n",
       "      <td>249448</td>\n",
       "      <td>https://www.onlinesbi.com/</td>\n",
       "    </tr>\n",
       "    <tr>\n",
       "      <th>519</th>\n",
       "      <td>ITC</td>\n",
       "      <td>Sanjiv Puri</td>\n",
       "      <td>574</td>\n",
       "      <td>36.078</td>\n",
       "      <td>6286</td>\n",
       "      <td>27279</td>\n",
       "      <td>https://www.itcportal.com/</td>\n",
       "    </tr>\n",
       "  </tbody>\n",
       "</table>\n",
       "<p>520 rows × 7 columns</p>\n",
       "</div>"
      ],
      "text/plain": [
       "                        company_name            ceo_names world_rank  \\\n",
       "0                RELIANCE INDUSTRIES        Mukesh Ambani         52   \n",
       "1    TATA CONSULTANCY SERVICES (TCS)    Rajesh Gopinathan         61   \n",
       "2                          HDFC BANK  Sashidhar Jagdishan        128   \n",
       "3                               HDFC        Keki M Mistry        258   \n",
       "4                 HINDUSTAN UNILEVER         Sanjiv Mehta        179   \n",
       "..                               ...                  ...        ...   \n",
       "515                       ICICI BANK      Sandeep Bakhshi        252   \n",
       "516              KOTAK MAHINDRA BANK           Uday Kotak        409   \n",
       "517                          INFOSYS         Salil Parekh        155   \n",
       "518              STATE BANK OF INDIA        Vinay M Tonse        355   \n",
       "519                              ITC          Sanjiv Puri        574   \n",
       "\n",
       "     market_cpa  annual_revenue  no_of_employees  \\\n",
       "0       214.910           85696           195618   \n",
       "1       195.160           20404           528748   \n",
       "2       121.600           19119           116971   \n",
       "3        68.936           13224             3326   \n",
       "4        89.838            5031            21000   \n",
       "..          ...             ...              ...   \n",
       "515      69.454            5216           131232   \n",
       "516      48.370            6539            60000   \n",
       "517     101.040           11803           279617   \n",
       "518      53.704           47090           249448   \n",
       "519      36.078            6286            27279   \n",
       "\n",
       "                    companies_urls  \n",
       "0             https://www.ril.com/  \n",
       "1             https://www.tcs.com/  \n",
       "2        https://www.hdfcbank.com/  \n",
       "3            https://www.hdfc.com/  \n",
       "4           https://www.hul.co.in/  \n",
       "..                             ...  \n",
       "515     https://www.icicibank.com/  \n",
       "516  https://www.kotak.com/en.html  \n",
       "517       https://www.infosys.com/  \n",
       "518     https://www.onlinesbi.com/  \n",
       "519     https://www.itcportal.com/  \n",
       "\n",
       "[520 rows x 7 columns]"
      ]
     },
     "execution_count": 175,
     "metadata": {},
     "output_type": "execute_result"
    }
   ],
   "source": [
    "scrap_df"
   ]
  },
  {
   "cell_type": "code",
   "execution_count": null,
   "metadata": {},
   "outputs": [],
   "source": []
  }
 ],
 "metadata": {
  "interpreter": {
   "hash": "a3304db5a260dcbda8440cf772ad02e7a4283521d398df2b132c70753f084c46"
  },
  "kernelspec": {
   "display_name": "Python 3.9.7 64-bit",
   "language": "python",
   "name": "python3"
  },
  "language_info": {
   "codemirror_mode": {
    "name": "ipython",
    "version": 3
   },
   "file_extension": ".py",
   "mimetype": "text/x-python",
   "name": "python",
   "nbconvert_exporter": "python",
   "pygments_lexer": "ipython3",
   "version": "3.9.7"
  },
  "orig_nbformat": 4
 },
 "nbformat": 4,
 "nbformat_minor": 2
}
