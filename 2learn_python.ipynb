{
 "cells": [
  {
   "cell_type": "markdown",
   "metadata": {},
   "source": [
    "## Python Tutorials ##"
   ]
  },
  {
   "cell_type": "markdown",
   "metadata": {},
   "source": [
    "## Strings"
   ]
  },
  {
   "cell_type": "code",
   "execution_count": 2,
   "metadata": {},
   "outputs": [
    {
     "name": "stdout",
     "output_type": "stream",
     "text": [
      "10 lets test integer in string\n",
      "['hey', 'this', 'is', 'a', 'string', 'now']\n",
      "['G', 'e', 'e', 'k', 's', '-', 'f', 'o', 'r', '-', 'G', 'e', 'e', 'k', 's']\n",
      "e e o e e "
     ]
    },
    {
     "data": {
      "text/plain": [
       "['how', 'are', 'you doing']"
      ]
     },
     "execution_count": 2,
     "metadata": {},
     "output_type": "execute_result"
    }
   ],
   "source": [
    "#strings functions\n",
    "\n",
    "s = \"this is a string we are practising on\"\n",
    "s1 = \"10 lets test integer in string\"\n",
    "s.find('y') #to find a character\n",
    "s.find('s')\n",
    "s.replace('this','yay')   #replaceing value\n",
    "s[4:-2]\n",
    "s[1:8] ##last value is excluded \n",
    "s[0:4:2]\n",
    "s.capitalize() #capitalize the first letter\n",
    "s.title() #bigger first character\n",
    "s1.replace('10','20')\n",
    "s1.title()\n",
    "s1.capitalize()\n",
    "s1.casefold #aggressive lower case\n",
    "#s1.casefold()\n",
    "#s1.count()\n",
    "print(s1)\n",
    "\n",
    "s3 = 'abcdef'\n",
    "s3[3:]\n",
    "s1.isdigit()\n",
    "\n",
    "s1.startswith('10')\n",
    "#s1.startswidth(10) #only works on string \n",
    "#s1.startswidth(\"test\",7)\n",
    "\n",
    "#convert string to list\n",
    "def convert(input_str):\n",
    "    li = list(input_str.split(\" \")) #split function is used\n",
    "    return li\n",
    "\n",
    "str = \"hey this is a string now\"\n",
    "print(convert(str))\n",
    "\n",
    "#cnovert string into character\n",
    "def convert2(input_chr):\n",
    "    li = [] #empty list\n",
    "    li[:0] = input_chr\n",
    "    return li\n",
    "\n",
    "input_char = \"Geeks-for-Geeks\"\n",
    "print(convert2(input_char))\n",
    "\n",
    "#program to count vowels in a string\n",
    "\n",
    "str = \"Geeks for Geeks\"\n",
    "li = []\n",
    "li[:0] = str\n",
    "for i in li:\n",
    "    if (i in ('a','e','i','o','u')):\n",
    "        print(i, end = \" \")\n",
    "\n",
    "\n",
    "#effective way\n",
    "#Some more functions \n",
    "\n",
    "str  = \"how-are-you doing\"\n",
    "str1 = str.split(\"-\")\n",
    "str1\n",
    "\n",
    "\n",
    "\n"
   ]
  },
  {
   "cell_type": "code",
   "execution_count": 5,
   "metadata": {},
   "outputs": [
    {
     "name": "stdout",
     "output_type": "stream",
     "text": [
      "hey are you aman\n",
      "your name is what james,mike or lab ?\n",
      "this is a line break \n",
      " to know better\n",
      "working on the format string sum of 12+3 is 5\n"
     ]
    }
   ],
   "source": [
    "#string formating\n",
    "name = \"aman\"\n",
    "str = f\"hey are you {name}\"\n",
    "\n",
    "print(str)\n",
    "\n",
    "\n",
    "str1 = ['james', 'mike', 'lab']\n",
    "\n",
    "for i in range(2,len(str1)):\n",
    "    print(f\"your name is what {str1[0]},{str1[1]} or {str1[2]} ?\")\n",
    "\n",
    "\n",
    "print(\"this is a line break \\n to know better\")\n",
    "\n",
    "#2 format method\n",
    "s4= \"working on the format string sum of {0}+{1} is {2}\".format(12,3,5)\n",
    "print(s4)"
   ]
  },
  {
   "cell_type": "code",
   "execution_count": 1,
   "metadata": {},
   "outputs": [],
   "source": [
    "#Assignment 1\n",
    "rem = 15%4\n",
    "print(rem)\n",
    "\n",
    "#-----------------\n",
    "chars = \"<<>>\"\n",
    "word = \"hello\"\n",
    "\n",
    "chars = \"[[]]\"\n",
    "word = \"Cool\"\n",
    "\n",
    "temp1 = chars[0:2]+word+chars[2:]\n",
    "print(temp1)\n",
    "\n",
    "#---------------\n",
    "word1 = \"Vehicle\"\n",
    "word2 = \"Robot\"\n",
    "\n",
    "word1 = \"Computer\"\n",
    "word2 = \"Truck\"\n",
    "temp2 = word1[1:]+word2[0]+word2[2:]\n",
    "print(temp2)\n",
    "\n",
    "#---------------\n",
    "chars = \"<[<||>]>>\"\n",
    "word = \"mirror\"\n",
    "\n",
    "chars = \"<<[]]]>?\" \n",
    "word = \"Cool\"\n",
    "\n",
    "temp3 = chars[0:int(len(chars)/2)] + word + chars[int(len(chars)/2):]\n",
    "print(temp3)\n"
   ]
  },
  {
   "cell_type": "markdown",
   "metadata": {},
   "source": [
    "## List"
   ]
  },
  {
   "cell_type": "code",
   "execution_count": 1,
   "metadata": {},
   "outputs": [
    {
     "name": "stdout",
     "output_type": "stream",
     "text": [
      "[[5, 'hey', 'not now'], 'makes learning fun!', 'words', 3, 2, 1]\n",
      "[1, 2, 3, 'words', 'makes learning fun!', [5, 'hey', 'not now'], 'days']\n",
      "[1, ['hello', 6, 7], 2, 3, 'words', 'makes learning fun!', [5, 'hey', 'not now'], 'days']\n",
      "[['hello', 6, 7], 2, 3, 'words', 'makes learning fun!', [5, 'hey', 'not now'], 'days']\n",
      "[['hello', 6, 7], 2, 'words', 'makes learning fun!', [5, 'hey', 'not now'], 'days']\n",
      "[True, 2, 'words', 'makes learning fun!', [5, 'hey', 'not now'], 'days']\n",
      "[[5, 'hey', 'not now'], 'days']\n",
      "['d', 'b', 'a', 3, 2, 1]\n",
      "7\n",
      "6\n",
      "i am \n",
      "[True, ['hello', 6, ['hello', 'i am ', 'okay lets do this'], 7], 3, 'words', 'makes learning fun!', 'days']\n",
      "[1, 9, 12, 34, 45, 56]\n",
      "[56, 45, 34, 12, 9, 1]\n",
      "['Appple', 'Banana', 'Grapes', 'Orange', 'apple', 'banana', 'mango']\n",
      "['apple', 'Appple', 'Banana', 'banana', 'Grapes', 'mango', 'Orange']\n",
      "6\n",
      "apple Appple Banana banana Grapes mango Orange 0 apple\n",
      "1 Appple\n",
      "2 Banana\n",
      "3 banana\n",
      "4 Grapes\n",
      "5 mango\n",
      "6 Orange\n",
      "[0, 0, 0, 0, 0]\n"
     ]
    }
   ],
   "source": [
    "\n",
    "mylist = [1, 2, 3, 'words', 'makes learning fun!',[5,'hey', 'not now']]\n",
    "\n",
    "my = mylist[::-1]\n",
    "print(my)\n",
    "\n",
    "mylist.append('days')\n",
    "print(mylist)\n",
    "\n",
    "mylist.insert(1, [\"hello\",6,7])\n",
    "print(mylist)\n",
    "\n",
    "# remove from index \n",
    "mylist.pop(0)\n",
    "print(mylist)\n",
    "\n",
    "#remove the value\n",
    "mylist.remove(3)\n",
    "print(mylist)\n",
    "\n",
    "mylist[0] = True\n",
    "print(mylist)\n",
    "\n",
    "\n",
    "mylist1 = [1,6,3, 'a', 'b', 'g']\n",
    "\n",
    "# mylist1.sort()\n",
    "mylist1.reverse()\n",
    "print(mylist[4:])\n",
    "# print(mylist1)\n",
    "\n",
    "list1 = ['b','d','a','z','x']\n",
    "list2 = [1, 2, 3, 4, 5]\n",
    "list2.reverse()\n",
    "list3 = list2[2:]\n",
    "list1.sort()\n",
    "list1.reverse()\n",
    "list4 =list1[2:]\n",
    "print(list4+list3)\n",
    "\n",
    "#Nested list\n",
    "\n",
    "nlist = [True, ['hello', 6, 7], 3, 'words', 'makes learning fun!', 'days']\n",
    "extract = nlist[1]\n",
    "print(extract[2])\n",
    "\n",
    "extract2 = nlist[1][1]\n",
    "print(extract2)\n",
    "\n",
    "nlist2 = [True, ['hello', 6,['hello','i am ', 'here'], 7], 3, 'words', 'makes learning fun!', 'days']\n",
    "extract3 = nlist2[1][2][1]\n",
    "print(extract3)\n",
    "\n",
    "nlist2[1][2][2]= 'okay lets do this'\n",
    "print(nlist2)\n",
    "\n",
    "\n",
    "exlist  = [12,45,1,56,9,34]\n",
    "exlist.sort()\n",
    "print(exlist)\n",
    "\n",
    "exlist.sort(reverse = True)  #Will not work on different data types\n",
    "print(exlist)\n",
    " \n",
    "\n",
    "fruits = ['Banana', 'Appple', 'Orange', 'Grapes', 'apple', 'mango', 'banana']\n",
    "fruits.sort()  #will treat capital letters first\n",
    "print(fruits)\n",
    "\n",
    "fruits.sort(key = str.lower) #this will treat all values in lower\n",
    "print(fruits)\n",
    "\n",
    "\n",
    "print(fruits.index('Orange'))\n",
    "\n",
    "#to get value\n",
    "for item in fruits:\n",
    "    print(item, end = \" \")\n",
    "\n",
    "#to get value and index \n",
    "for index, item in enumerate(fruits):\n",
    "    print(index, item)\n",
    "\n",
    "\n",
    "#printing multiple values (list replication)\n",
    "zero  = [0]*5\n",
    "print(zero)"
   ]
  },
  {
   "cell_type": "markdown",
   "metadata": {},
   "source": [
    "## Tuples"
   ]
  },
  {
   "cell_type": "code",
   "execution_count": 2,
   "metadata": {},
   "outputs": [
    {
     "data": {
      "text/plain": [
       "(4, 5, 3, 8, 9)"
      ]
     },
     "execution_count": 2,
     "metadata": {},
     "output_type": "execute_result"
    }
   ],
   "source": [
    "\n",
    "mytup = ('a','v','g',[1, 3, 4], \"yo\",1,4,1,5,3,1)\n",
    "mytup[3][1]\n",
    "\n",
    "#mytup[2] = 'b' #tuple object does not support item assignment\n",
    "\n",
    "#But we can change values of list which is inside tuple\n",
    "mytup[3][2] = 7  \n",
    "mytup  \n",
    "\n",
    "#Tuple only supports changes in the nested elements if they are changeable.\n",
    "\n",
    "count = mytup.count(1) # count function can giev us number of times the element is present\n",
    "count\n",
    "\n",
    "str = mytup[4]\n",
    "type(str)\n",
    "\n",
    "li=mytup[3]\n",
    "li\n",
    "type(li)\n",
    "\n",
    "\n",
    "#'tuple' object has no attribute 'sort'\n",
    "tup2= (4,5,1,7,1,0)\n",
    "#tup2.sort()\n",
    "\n",
    "\n",
    "#creating a tuple\n",
    "\n",
    "list = [4,5,3,8,9]\n",
    "tu = tuple(list)\n",
    "tu"
   ]
  },
  {
   "cell_type": "markdown",
   "metadata": {},
   "source": [
    "## Dictionaries"
   ]
  },
  {
   "cell_type": "code",
   "execution_count": 3,
   "metadata": {},
   "outputs": [
    {
     "name": "stdout",
     "output_type": "stream",
     "text": [
      "3\n",
      "{'jon': 88, 'hen': 67, 'amke': 56}\n",
      "jon 88\n",
      "hen 67\n",
      "amke 56\n",
      "{}\n",
      "{'4': 'hey'}\n",
      "{'4': 'hey', 'items': ['mango', 'grapees', 'orange']}\n",
      "orange\n",
      "{'4': 'hey', 'items': ['mango', 'grapees', 'orange', {'more': 'pinapple', 'lo': 'more_words'}]}\n",
      "more_words\n",
      "4 hey\n",
      "items ['mango', 'grapees', 'orange', {'more': 'pinapple', 'lo': 'more_words'}]\n"
     ]
    }
   ],
   "source": [
    "#dictionaries\n",
    "dict1 = {\"k1\":3}\n",
    "print(dict1['k1'])\n",
    "\n",
    "dict1 = {'jon':46, 'hen':67, 'amke':56}\n",
    "dict1['jon'] = 88\n",
    "print(dict1)\n",
    "\n",
    "for i in dict1:\n",
    "    print(\"%s %d\" %(i, dict1[i]))\n",
    "\n",
    "#no sorting in dictionaries\n",
    "dict1.clear() #empty the dic\n",
    "print(dict1)\n",
    "\n",
    "#to add in dict\n",
    "\n",
    "dict1['4']=\"hey\"\n",
    "print(dict1)\n",
    "\n",
    "dict1['items'] =['mango','grapees','orange']\n",
    "print(dict1)\n",
    "print(dict1['items'][2])\n",
    "\n",
    "dict1['items'] = ['mango','grapees','orange',{'more':'pinapple','lo':'more_words'}]\n",
    "print(dict1)\n",
    " \n",
    "print(dict1['items'][3]['lo'])\n",
    "\n",
    "\n",
    "for i in dict1:\n",
    "    print(\"%s %s\" %(i, dict1[i]))\n",
    "\n",
    "\n"
   ]
  },
  {
   "cell_type": "code",
   "execution_count": 54,
   "metadata": {},
   "outputs": [
    {
     "data": {
      "text/plain": [
       "[(1, 2), (3, 4), (['c', 'd', 'a', 'x'], [3, 9, 4, 12], 4), 'v', 42]"
      ]
     },
     "execution_count": 54,
     "metadata": {},
     "output_type": "execute_result"
    }
   ],
   "source": [
    "#Assignment 2\n",
    "#Print Bill's salary from the my_list object shown below.\n",
    "\n",
    "my_list = [{'Tom': 20000, 'Bill': 12000}, ['car', 'laptop', 'TV']]\n",
    "\n",
    "my_list[0]['Bill']\n",
    "\n",
    "original_list = ['cup', 'cereal', 'milk', (8, 4, 3)]\n",
    "\n",
    "b= []\n",
    "b.append(original_list[3][2])\n",
    "b.append(original_list[3][1])\n",
    "b.append(original_list[3][0])\n",
    "\n",
    "b\n",
    "\n",
    "\n",
    "my_list = [(1, 2), (3, 4), (['c', 'd', 'a', 'm'], [3, 9, 4, 12], 4), 'TV', 42]\n",
    "\n",
    "my_list[2][0][3] = 'x'\n",
    "my_list[3] = 'v'\n",
    "my_list"
   ]
  },
  {
   "cell_type": "markdown",
   "metadata": {},
   "source": [
    "## Sets"
   ]
  },
  {
   "cell_type": "code",
   "execution_count": 9,
   "metadata": {},
   "outputs": [
    {
     "data": {
      "text/plain": [
       "{'cat', 'cow', 'dog', 'elephant', 'lion', 'tiger'}"
      ]
     },
     "execution_count": 9,
     "metadata": {},
     "output_type": "execute_result"
    }
   ],
   "source": [
    "# Set can not contains duplicate items\n",
    "# It can only have immutable objects like string,tuples and numbers\n",
    "# No particular order of an item\n",
    "\n",
    "animal = set([\"dog\",\"cat\",\"cow\",\"dog\"])\n",
    "animal2  = ['lion','tiger','elephant']\n",
    "animal\n",
    "\n",
    "animal.add(\"ox\")\n",
    "animal.update(animal2)#we use update to add\n",
    "animal\n",
    "\n",
    "animal.discard('ox')\n",
    "animal"
   ]
  },
  {
   "cell_type": "markdown",
   "metadata": {},
   "source": [
    "## Functions"
   ]
  },
  {
   "cell_type": "code",
   "execution_count": 24,
   "metadata": {},
   "outputs": [
    {
     "name": "stdout",
     "output_type": "stream",
     "text": [
      "hey nice to meet you\n",
      "whats your value 4\n",
      "whats your value 10\n",
      "your reminder is 2\n",
      "this is the sum 41\n",
      "{'name': ['ramzy', 'suresh', 'mahesh'], 'weight': 90, 'job': 'plumber'}\n"
     ]
    },
    {
     "data": {
      "text/plain": [
       "8"
      ]
     },
     "execution_count": 24,
     "metadata": {},
     "output_type": "execute_result"
    }
   ],
   "source": [
    "#functions\n",
    "\n",
    "def greetings():\n",
    "    '''\n",
    "    this is just a function\n",
    "    '''\n",
    "    print(\"hey nice to meet you\");\n",
    "\n",
    "greetings()\n",
    "\n",
    "#Default arguments\n",
    "def value(x = 4): # this means we are defining a default value\n",
    "    print(\"whats your value \"+ str(x))\n",
    "    \n",
    "value()\n",
    "value(10)\n",
    "\n",
    "\n",
    "#Keyword arguments\n",
    "def reminder(v1, v2): #these refres as parameter\n",
    "    rem = v1%v2\n",
    "    return \"your reminder is \" + str(rem)\n",
    "\n",
    "result=reminder(10,4) #this refer as argument\n",
    "print(result)\n",
    "\n",
    "#Variable-length arguments\n",
    "\n",
    "# *args, **kwargs\n",
    "\n",
    "# *args -- we can pass unlimited number of values\n",
    "def mysum(*args):\n",
    "    return sum(args)\n",
    "print(\"this is the sum \"+ str(mysum(2,4,6,7,3,7,1,7,4)))\n",
    "\n",
    "# **kwargs -- for creating key value pair\n",
    "def value(**kwargs):\n",
    "    print(kwargs)\n",
    "\n",
    "value(name = ['ramzy', 'suresh','mahesh'], weight = 90, job = 'plumber')\n",
    "\n",
    "\n",
    "#Lambda function\n",
    "max = lambda a,b: a if(a>b) else b\n",
    "\n",
    "max(5,8)\n"
   ]
  },
  {
   "cell_type": "code",
   "execution_count": 1,
   "metadata": {},
   "outputs": [],
   "source": [
    "#Lambda Function\n",
    "\n"
   ]
  },
  {
   "cell_type": "markdown",
   "metadata": {},
   "source": [
    "# Variable Scope"
   ]
  },
  {
   "cell_type": "code",
   "execution_count": 13,
   "metadata": {},
   "outputs": [
    {
     "name": "stdout",
     "output_type": "stream",
     "text": [
      "5 hey this is no\n",
      "10\n",
      "8\n",
      "before calling func5:  10\n",
      "after calling func5:  10\n",
      "after calling func5:  10\n",
      "20\n"
     ]
    }
   ],
   "source": [
    "l = 10  #global variable \n",
    "def func(n):\n",
    "    l = 5   #local variable\n",
    "    print(l,\"hey this is no\")\n",
    "\n",
    "func(8)\n",
    "print(l)\n",
    "\n",
    "## Function checks first in local and then in global scope\n",
    "\n",
    "n = 4\n",
    "def func2(m):\n",
    "    n = n+4\n",
    "    print(n)\n",
    "\n",
    "# Error func2(2) #local variable 'n' referenced before assignment\n",
    "# we can not change the value of global variables in a functions\n",
    "# to do it we need to use GLOBAL keyword\n",
    "\n",
    "n = 4\n",
    "def func3():\n",
    "    global n #now we can make changes in n\n",
    "    n = n+4\n",
    "    print(n)\n",
    "\n",
    "func3()\n",
    "\n",
    "\n",
    "#Scope in nested functions\n",
    "\n",
    "def func4():\n",
    "    x = 10\n",
    "\n",
    "    def func5():\n",
    "        global x  # global keyword only makes changes outer of any function\n",
    "        x = 20\n",
    "\n",
    "    print(\"before calling func5: \",x)\n",
    "    func5()\n",
    "    print(\"after calling func5: \",x)\n",
    "\n",
    "func4()\n",
    "\n",
    "\n",
    "##\n",
    "x = 78\n",
    "def func4():\n",
    "    x = 10\n",
    "\n",
    "    def func5():\n",
    "        global x  # global keyword only makes changes outer of any function\n",
    "        x = 20\n",
    "\n",
    "    #print(\"before calling func5: \",x)\n",
    "    func5()\n",
    "    print(\"after calling func5: \",x)\n",
    "\n",
    "func4()\n",
    "print(x)"
   ]
  },
  {
   "cell_type": "code",
   "execution_count": 5,
   "metadata": {},
   "outputs": [
    {
     "name": "stdout",
     "output_type": "stream",
     "text": [
      "[4, 5, 6, 1, 3, 2, 8, 9]\n",
      "['h', 'e', 'y', ' ', 'i', ' ', 'a', 'm', ' ', 'g', 'o', 'g', 'i', 'n', 'g', ' ', 't', 'o', ' ', 'b', 'e', ' ', 's', 'e', 'p', 'r', 'a', 't', 'e', 'd']\n",
      "[3, 5, 8]\n"
     ]
    }
   ],
   "source": [
    "#Assignment 3\n",
    "#1\n",
    "\n",
    "list1 = [4,5,6,1]\n",
    "list2 = [3,2,8,9]\n",
    "\n",
    "#3\n",
    "def merge(l1, l2):\n",
    "    return l1+l2\n",
    "\n",
    "print(merge(list1, list2))\n",
    "\n",
    "#2:\n",
    "str = \"hey i am goging to be seprated\"\n",
    "def sep(s):\n",
    "    return list(s)\n",
    "\n",
    "\n",
    "print(sep(str))\n",
    "\n",
    "\n",
    "#4\n",
    "def lastlist(*args):\n",
    "    return (args[-1])\n",
    "\n",
    "\n",
    "print(lastlist([1,3,4],[5,6,4],[8,9,1],[3,5,8]))\n",
    "    \n",
    "#5  \n",
    "\n"
   ]
  },
  {
   "cell_type": "markdown",
   "metadata": {},
   "source": [
    "## Break\n",
    "- to exit a loop\n",
    "## Continue\n",
    "- Skip all the remaining statements and goes back to start of the loop \n",
    "## Pass\n",
    "- "
   ]
  },
  {
   "cell_type": "code",
   "execution_count": 25,
   "metadata": {},
   "outputs": [
    {
     "name": "stdout",
     "output_type": "stream",
     "text": [
      "yo we got you\n",
      "after break\n",
      "this is a loop\n",
      "this is a loop\n",
      "nice\n",
      "mike\n",
      "json\n",
      "amera\n",
      "naso\n",
      "30000\n",
      "50000\n",
      "20000\n",
      "800000\n",
      "('mike', 30000)\n",
      "('json', 50000)\n",
      "('amera', 20000)\n",
      "('naso', 800000)\n",
      "mike 30000\n",
      "json 50000\n",
      "amera 20000\n",
      "naso 800000\n",
      "('nice', 3)\n",
      "('to', 7)\n",
      "('meet', 2)\n",
      "('ya', 9)\n",
      "(0, 'nice')\n",
      "(1, 'to')\n",
      "(2, 'meet')\n",
      "(3, 'ya')\n",
      "(1, 'hey', 200)\n",
      "(2, 'this', 500)\n",
      "(3, 'is', 700)\n"
     ]
    }
   ],
   "source": [
    "#break, continue, pass\n",
    "str = \"hey this is for loop practice\"\n",
    "\n",
    "for i in str:\n",
    "    if i == 'h':\n",
    "        print(\"yo we got you\")\n",
    "    break\n",
    "print(\"after break\")\n",
    "\n",
    "\n",
    "for i in str:\n",
    "    if i == 'c':\n",
    "        print('this is a loop')\n",
    "    continue\n",
    "print(\"nice\")\n",
    "\n",
    "\n",
    "#loops in dict\n",
    "\n",
    "employees = {'mike':30000, 'json':50000, 'amera':20000, 'naso':800000}\n",
    "for k in employees:\n",
    "    print(k)\n",
    "\n",
    "for v in employees.values():\n",
    "    print(v)\n",
    "\n",
    "for k in employees.items():\n",
    "    print(k)\n",
    "    \n",
    "for k,v in employees.items():\n",
    "    print(k, v)\n",
    "\n",
    "\n",
    "#zip\n",
    "\n",
    "list1 = ['nice','to','meet','ya']\n",
    "list2 = [3,7,2,9]\n",
    "\n",
    "zipping = zip(list1, list2)\n",
    "\n",
    "for i in zipping:\n",
    "    print(i)\n",
    "\n",
    "#enumerate\n",
    "\n",
    "for i in enumerate(list1):\n",
    "    print(i)\n",
    "\n",
    "\n",
    "l1= [1,2,3,4,5,6]\n",
    "l2 = ['hey','this','is','zipping']\n",
    "l3  = [200,500,700]\n",
    "\n",
    "zipped_list = zip(l1,l2,l3)\n",
    "\n",
    "for i in zipped_list:\n",
    "    print(i)\n",
    "\n",
    "#(1, 'hey', 200)\n",
    "#(2, 'this', 500)\n",
    "#(3, 'is', 700)"
   ]
  },
  {
   "cell_type": "code",
   "execution_count": 50,
   "metadata": {},
   "outputs": [
    {
     "name": "stdout",
     "output_type": "stream",
     "text": [
      "0 hey\n",
      "1 they\n",
      "2 are\n",
      "3 numbering\n",
      "4 us\n",
      "----------\n",
      "('name', 'apple')\n",
      "('colour', 'red')\n",
      "('shape', 'a circle')\n",
      "----------\n",
      "[3, 6, 9, 18]\n",
      "('geeks', 'for')\n",
      "('only', 'geeks')\n",
      "----------\n",
      "1\n",
      "1\n",
      "2\n",
      "3\n",
      "3\n",
      "5\n",
      "6\n",
      "-------\n",
      "knirdemeviG\n",
      "hey make it good\n",
      "-------\n",
      "<module 'pandas' from 'c:\\\\Users\\\\anshi\\\\AppData\\\\Local\\\\Programs\\\\Python\\\\Python310\\\\lib\\\\site-packages\\\\pandas\\\\__init__.py'>\n"
     ]
    }
   ],
   "source": [
    "#Enumerate: printing the index number along with the value\n",
    "\n",
    "for i, j in enumerate(['hey','they','are','numbering','us']):\n",
    "    print(i,j)\n",
    "print(\"----------\")\n",
    "\n",
    "#Zip: combine 2 similar containers(list-list or dict-dict) printing the values sequentially\n",
    "\n",
    "l1 = ['name', 'colour', 'shape']\n",
    "l2 = ['apple', 'red', 'a circle']\n",
    "\n",
    "for i in zip(l1,l2):\n",
    "    print(i)\n",
    "\n",
    "print(\"----------\")\n",
    "\n",
    "#List comprehension\n",
    "num = [3,5,6,9,2,18]\n",
    "li = [i for i in num if i%3 == 0]\n",
    "print(li)\n",
    "\n",
    "\n",
    "\n",
    "#items\n",
    "\n",
    "d = {\"geeks\": \"for\", \"only\": \"geeks\"}\n",
    "\n",
    "for i in d.items():\n",
    "    print(i)\n",
    "\n",
    "print(\"----------\")\n",
    "\n",
    "#Sorted\n",
    "lis = [1, 3, 5, 6, 2, 1, 3]\n",
    "\n",
    "for i in sorted(lis):\n",
    "    print(i)\n",
    "\n",
    "print(\"-------\")\n",
    "#Revering a string\n",
    "s = \"Givemedrink\"\n",
    "print(s[::-1])\n",
    "\n",
    "#Single string from list\n",
    "name  = ['hey', 'make', 'it', 'good']\n",
    "print(\" \".join(name))\n",
    "\n",
    "print(\"-------\")\n",
    "#print file path of imported module\n",
    "import pandas\n",
    "print(pandas)"
   ]
  },
  {
   "cell_type": "code",
   "execution_count": 17,
   "metadata": {},
   "outputs": [
    {
     "ename": "TypeError",
     "evalue": "'list' object is not callable",
     "output_type": "error",
     "traceback": [
      "\u001b[1;31m---------------------------------------------------------------------------\u001b[0m",
      "\u001b[1;31mTypeError\u001b[0m                                 Traceback (most recent call last)",
      "\u001b[1;32m~\\AppData\\Local\\Temp/ipykernel_12744/304997844.py\u001b[0m in \u001b[0;36m<module>\u001b[1;34m\u001b[0m\n\u001b[0;32m      2\u001b[0m \u001b[1;32mfrom\u001b[0m \u001b[0mrandom\u001b[0m \u001b[1;32mimport\u001b[0m \u001b[0mshuffle\u001b[0m\u001b[1;33m\u001b[0m\u001b[1;33m\u001b[0m\u001b[0m\n\u001b[0;32m      3\u001b[0m \u001b[0mmylist\u001b[0m \u001b[1;33m=\u001b[0m \u001b[1;33m[\u001b[0m\u001b[1;33m]\u001b[0m\u001b[1;33m\u001b[0m\u001b[1;33m\u001b[0m\u001b[0m\n\u001b[1;32m----> 4\u001b[1;33m \u001b[0mmylist\u001b[0m \u001b[1;33m=\u001b[0m \u001b[0mlist\u001b[0m\u001b[1;33m(\u001b[0m\u001b[0mrange\u001b[0m\u001b[1;33m(\u001b[0m\u001b[1;36m101\u001b[0m\u001b[1;33m)\u001b[0m\u001b[1;33m)\u001b[0m\u001b[1;33m\u001b[0m\u001b[1;33m\u001b[0m\u001b[0m\n\u001b[0m\u001b[0;32m      5\u001b[0m \u001b[0mprint\u001b[0m\u001b[1;33m(\u001b[0m\u001b[0mmylist\u001b[0m\u001b[1;33m)\u001b[0m\u001b[1;33m\u001b[0m\u001b[1;33m\u001b[0m\u001b[0m\n\u001b[0;32m      6\u001b[0m \u001b[1;33m\u001b[0m\u001b[0m\n",
      "\u001b[1;31mTypeError\u001b[0m: 'list' object is not callable"
     ]
    }
   ],
   "source": [
    "from random import randint\n",
    "from random import shuffle\n",
    "mylist = []\n",
    "mylist = list(range(101))\n",
    "print(mylist)"
   ]
  },
  {
   "cell_type": "code",
   "execution_count": 24,
   "metadata": {},
   "outputs": [
    {
     "name": "stdout",
     "output_type": "stream",
     "text": [
      "false\n",
      "True\n"
     ]
    }
   ],
   "source": [
    "#Assignment 4\n",
    "\n",
    "#1\n",
    "\n",
    "def twelve(a,b):\n",
    "    if (a==12 or b==12 or a+b==12):\n",
    "        return \"true\"\n",
    "    else:\n",
    "        return \"false\"\n",
    "\n",
    "twelve(4,8)\n",
    "\n",
    "#2\n",
    "def pay(work, time):\n",
    "    if(work ==\"true\" and  (time < 8 or time >20)):\n",
    "        return \"true\"\n",
    "    else:\n",
    "        return \"false\"\n",
    "\n",
    "print(pay(True, 4))\n",
    "\n",
    "#3\n",
    "\n",
    "def sequence(list):\n",
    "    for i in range(len(list)-2):\n",
    "        if(list[i]==1 and list[i+1] == 2 and list[i+2]==3):\n",
    "            return True\n",
    "    else:\n",
    "        return False\n",
    "\n",
    "print(sequence([1,3,1,2,3,4]))\n",
    "\n",
    "\n",
    "#4\n",
    "\n",
    "        \n",
    "\n"
   ]
  },
  {
   "cell_type": "markdown",
   "metadata": {},
   "source": [
    "## Exception Handeling"
   ]
  },
  {
   "cell_type": "markdown",
   "metadata": {},
   "source": [
    "Multiple types of erros: <br>\n",
    "-- Complie time <br>\n",
    "-- Run time <br>\n",
    "-- Logical "
   ]
  },
  {
   "cell_type": "code",
   "execution_count": 14,
   "metadata": {},
   "outputs": [
    {
     "name": "stdout",
     "output_type": "stream",
     "text": [
      "division by zero\n",
      "hey i will get executed if you got error or do not got error\n"
     ]
    }
   ],
   "source": [
    "try:\n",
    "    value = 10/0\n",
    "    number = int(input(\"enter a valid number:\"))\n",
    "    print(number)\n",
    "except ZeroDivisionError as err:\n",
    "    print(err)\n",
    "except ValueError as ve:\n",
    "    print(ve)\n",
    "except Exception:\n",
    "    print(\"will handle all error\")\n",
    "    \n",
    "finally:\n",
    "    print(\"hey i will get executed if you got error or do not got error\")"
   ]
  },
  {
   "cell_type": "markdown",
   "metadata": {},
   "source": [
    "## OOPS"
   ]
  },
  {
   "cell_type": "markdown",
   "metadata": {},
   "source": [
    "- class have data/property and functions/behaviours\n",
    "- class name should be in pascal case\n",
    "- every object is of a class\n",
    "- "
   ]
  },
  {
   "cell_type": "code",
   "execution_count": 1,
   "metadata": {},
   "outputs": [
    {
     "name": "stdout",
     "output_type": "stream",
     "text": [
      "Please select from below options\n",
      "new pin changed\n",
      "Your Current Balance :  0\n"
     ]
    }
   ],
   "source": [
    "class ATM:\n",
    "\n",
    "    #Here init ek constructor h and constructor is a method, in which code executed automatically when we create an object of that class.\n",
    "    #Constructor name always be __init__\n",
    "    # \n",
    "\n",
    "    \n",
    "    def __init__(self):\n",
    "        self.pin = \"\"\n",
    "        self .balance  = 0\n",
    "\n",
    "    def menu(self):\n",
    "        print(\"Please select from below options\")\n",
    "        inp = input(\" 1 - Create Pin, 2 - Check Balance, 3 - To withdraw, 4 - To Deposit \")\n",
    "\n",
    "        if inp == '1':\n",
    "            self.create_pin()\n",
    "        elif inp == '2':\n",
    "           self.check_balance()\n",
    "        elif inp == '3':\n",
    "            self.withdraw()\n",
    "        elif inp == '4':\n",
    "            self.deposit()\n",
    "    \n",
    "    def create_pin(self):\n",
    "        self.pin = input(\"Enter your pin\")\n",
    "        print(\"new pin changed\")\n",
    "    \n",
    "    def deposit(self):\n",
    "        temp = input(\"Enter your pin\") \n",
    "        if temp == self.pin:\n",
    "            dep = int(input(\"How much you want to deposite\"))\n",
    "            self.balance = self.balance+dep\n",
    "            print(\"Amount Deposited : \", self.balance)\n",
    "        else:\n",
    "            print(\"invalid pin entered\")\n",
    "\n",
    "    def withdraw(self):\n",
    "        temp = input(\"Enter your pin\") \n",
    "        if temp == self.pin:\n",
    "            amt = int(input(\"Enter amount to withdraw\"))\n",
    "            if amt<self.balance:\n",
    "                self.balance = self.balance - amt\n",
    "                print(\"your remaining amount : \", self.balance)\n",
    "            else:\n",
    "                print(\"Insufficient fund\")\n",
    "        else:\n",
    "            print(\"invalid pin entered\")\n",
    "    \n",
    "    def check_balance(self):\n",
    "        temp = input(\"Enter your pin\") \n",
    "        if temp == self.pin:\n",
    "            print(\"Your Current Balance : \", self.balance)\n",
    "        else:\n",
    "             print(\"invalid pin entered\")\n",
    "\n",
    "\n",
    "\n",
    "obj = ATM()\n",
    "obj.menu()\n",
    "obj.check_balance()\n",
    "\n"
   ]
  },
  {
   "cell_type": "code",
   "execution_count": 25,
   "metadata": {},
   "outputs": [
    {
     "name": "stdout",
     "output_type": "stream",
     "text": [
      "not same\n"
     ]
    }
   ],
   "source": [
    "class Example:\n",
    "\n",
    "    def __init__(self) -> None:\n",
    "        self.name = \"aman\"     \n",
    "        self.age = 25\n",
    "    \n",
    "    def update(self):\n",
    "        self.age = 30\n",
    "    \n",
    "    def compare(self, other):\n",
    "        if self.age == other.age:\n",
    "            print(\"same\")\n",
    "        else:\n",
    "            print(\"not same\")\n",
    "\n",
    "\n",
    "e1 = Example()\n",
    "e2 = Example()\n",
    "\n",
    "e2.update()\n",
    "e2.age\n",
    "\n",
    "if e1.compare(e2):\n",
    "    print(\"they are same\")\n"
   ]
  },
  {
   "cell_type": "markdown",
   "metadata": {},
   "source": [
    "Different Variables in oops"
   ]
  },
  {
   "cell_type": "code",
   "execution_count": 59,
   "metadata": {},
   "outputs": [
    {
     "data": {
      "text/plain": [
       "6"
      ]
     },
     "execution_count": 59,
     "metadata": {},
     "output_type": "execute_result"
    }
   ],
   "source": [
    "#two types of variables\n",
    "#   instance variable\n",
    "#   Static/Class  variable\n",
    "\n",
    "\n",
    "class car:\n",
    "\n",
    "    wheels = 4     #class variable\n",
    "\n",
    "    def __init__(self) -> None:\n",
    "        self.milage = 10     #instance variable\n",
    "        self.name  = \"BMW\"\n",
    "    \n",
    "c1  = car()\n",
    "c2 = car()\n",
    "\n",
    "c1.milage =8\n",
    "c2.wheels = 5\n",
    "\n",
    "car.wheels =6\n",
    "\n",
    "c1.milage, c1.wheels\n",
    "c2.milage,c2.name,c2.wheels\n",
    "c1.wheels"
   ]
  },
  {
   "cell_type": "markdown",
   "metadata": {},
   "source": [
    "Different methods in python\n"
   ]
  },
  {
   "cell_type": "code",
   "execution_count": 1,
   "metadata": {},
   "outputs": [
    {
     "name": "stdout",
     "output_type": "stream",
     "text": [
      "<bound method Student.info of <class '__main__.Student'>>\n"
     ]
    }
   ],
   "source": [
    "#three types of methods\n",
    "    #instance method\n",
    "    #class method\n",
    "    #static method\n",
    "\n",
    "class Student:\n",
    "\n",
    "    school = \"Masters\"\n",
    "\n",
    "    def __init__(self,m1,m2,m3):\n",
    "        self.m1 = m1\n",
    "        self.m2 = m2\n",
    "        self.m3 = m3\n",
    "\n",
    "    #this is instance method as this is working with instance variable\n",
    "    def avg(self):\n",
    "        return (self.m1+self.m2+self.m3)/3\n",
    "\n",
    "    @classmethod\n",
    "    def info(cls):\n",
    "        return cls.info\n",
    "    \n",
    "\n",
    "s1 = Student(34,23,45)\n",
    "s2 = Student(29,31,48)\n",
    "\n",
    "s1.avg(), s2.avg()\n",
    "\n",
    "print(Student.info())\n",
    "\n"
   ]
  },
  {
   "cell_type": "markdown",
   "metadata": {},
   "source": [
    "## Files Handling"
   ]
  },
  {
   "cell_type": "code",
   "execution_count": 31,
   "metadata": {},
   "outputs": [
    {
     "name": "stdout",
     "output_type": "stream",
     "text": [
      "This is new file which is used for learning\n",
      "\n",
      "can we see second line \n",
      "\n",
      "yo thats another line\n"
     ]
    }
   ],
   "source": [
    "#read a file\n",
    "file = open('hello_file.txt','r')\n",
    "for i in file:\n",
    "    print(i)"
   ]
  },
  {
   "cell_type": "code",
   "execution_count": 33,
   "metadata": {},
   "outputs": [
    {
     "ename": "ValueError",
     "evalue": "I/O operation on closed file.",
     "output_type": "error",
     "traceback": [
      "\u001b[1;31m---------------------------------------------------------------------------\u001b[0m",
      "\u001b[1;31mValueError\u001b[0m                                Traceback (most recent call last)",
      "\u001b[1;32mc:\\Users\\anshi\\Documents\\Python_code\\.vscode\\2learn_python.ipynb Cell 35\u001b[0m in \u001b[0;36m<module>\u001b[1;34m\u001b[0m\n\u001b[0;32m      <a href='vscode-notebook-cell:/c%3A/Users/anshi/Documents/Python_code/.vscode/2learn_python.ipynb#ch0000034?line=3'>4</a>\u001b[0m file\u001b[39m.\u001b[39mwrite(\u001b[39m\"\u001b[39m\u001b[39mLet see what we write\u001b[39m\u001b[39m\"\u001b[39m)\n\u001b[0;32m      <a href='vscode-notebook-cell:/c%3A/Users/anshi/Documents/Python_code/.vscode/2learn_python.ipynb#ch0000034?line=4'>5</a>\u001b[0m file\u001b[39m.\u001b[39mclose()\n\u001b[1;32m----> <a href='vscode-notebook-cell:/c%3A/Users/anshi/Documents/Python_code/.vscode/2learn_python.ipynb#ch0000034?line=6'>7</a>\u001b[0m \u001b[39mprint\u001b[39m(file\u001b[39m.\u001b[39;49mread())\n",
      "\u001b[1;31mValueError\u001b[0m: I/O operation on closed file."
     ]
    }
   ],
   "source": [
    "#write a file\n",
    "file = open('hello_file.txt','w')\n",
    "file.write(\"this is written by python...ooh\")\n",
    "file.write(\"Let see what we write\")\n",
    "file.close()\n"
   ]
  },
  {
   "cell_type": "code",
   "execution_count": 22,
   "metadata": {},
   "outputs": [
    {
     "data": {
      "text/plain": [
       "26"
      ]
     },
     "execution_count": 22,
     "metadata": {},
     "output_type": "execute_result"
    }
   ],
   "source": [
    "#append in the file\n",
    "\n",
    "file = open('hello_file.txt', 'a')\n",
    "file.write(\"hey people nice to meet ya\")"
   ]
  },
  {
   "cell_type": "code",
   "execution_count": 28,
   "metadata": {},
   "outputs": [],
   "source": [
    "file2 = open('new_file.txt', 'w')\n",
    "file2.write(\"this is a new file\")\n"
   ]
  },
  {
   "cell_type": "code",
   "execution_count": 32,
   "metadata": {},
   "outputs": [],
   "source": [
    "\n",
    "file = open('hello_file.txt', 'r')\n",
    "file2 = open('new_file.txt', 'w')\n",
    "\n",
    "for i in file:\n",
    "    file2.write(i)\n",
    "\n",
    "file2.close()"
   ]
  },
  {
   "cell_type": "code",
   "execution_count": 2,
   "metadata": {},
   "outputs": [
    {
     "data": {
      "text/plain": [
       "'Hi aman,\\n\\nThis is a reminder that you have 98 assignments left to submit before you can graduate.'"
      ]
     },
     "execution_count": 2,
     "metadata": {},
     "output_type": "execute_result"
    }
   ],
   "source": [
    "name = input()\n",
    "marks = input()\n",
    "\n",
    "message = \"Hi {},\\n\\nThis is a reminder that you have {} assignments left to \\\n",
    "submit before you can graduate.\".format(name, marks)\n",
    "\n",
    "message"
   ]
  },
  {
   "cell_type": "markdown",
   "metadata": {},
   "source": [
    "## Logging \n",
    "- Generally use to debug the code\n",
    "- Advantage of logging over print is that we can store the logging output in a file that we can define in basic config.\n",
    "- Default level of logging is \"Warning\" and default mode is append, with mode set to \"w\", every time new file will be created and logging messages gets written.\n",
    "- Format: we can change the output looks"
   ]
  },
  {
   "cell_type": "code",
   "execution_count": 7,
   "metadata": {},
   "outputs": [
    {
     "name": "stderr",
     "output_type": "stream",
     "text": [
      "2022-07-01 13:22:14,044 - INFO - we will going to check the length of Qwerty and let you know if its correct or not \n",
      "2022-07-01 13:22:14,045 - DEBUG - checking if the name is Alphabet... \n"
     ]
    },
    {
     "name": "stdout",
     "output_type": "stream",
     "text": [
      "Name is Valid\n"
     ]
    }
   ],
   "source": [
    "import logging\n",
    "\n",
    "# configure logging \n",
    "logging.basicConfig(level = logging.DEBUG, format='%(asctime)s - %(levelname)s - %(message)s ')\n",
    "\n",
    "#if we want to capture all the log messages into a file then\n",
    "#logging.basicConfig(filename = 'demo.log',level = logging.DEBUG, filemode = 'w')\n",
    "\n",
    "#to disable logging\n",
    "#logging.disable()\n",
    "\n",
    "def namecheck(name):\n",
    "    logging.info(f'we will going to check the length of {name} and let you know if its correct or not')\n",
    "    if len(name)<2:\n",
    "        logging.debug('checking for the name length...')\n",
    "        return 'Invalid Name'\n",
    "    elif name.isspace():\n",
    "        logging.debug('checking if the name has space...')\n",
    "        return 'Invalid Name'\n",
    "    elif name.isalpha():\n",
    "        logging.debug('checking if the name is Alphabet...')\n",
    "        return 'Name is Valid'\n",
    "    else:\n",
    "        logging.debug('Failled all checks...')\n",
    "        return 'Invalid Name'\n",
    "\n",
    "\n",
    "####################### To Change the root name ###########################\n",
    "\n",
    "#root is a default logger we can specify our own as well\n",
    "#to create or own logger\n",
    "\n",
    "logger = logging.getLogger('__name__')\n",
    "#why we are using __name__ because if we are going to use this logger program in another program by using import than the logger get the name as file name \n",
    "#After defing the logger we need to set it so:\n",
    "logger.setLevel(logging.DEBUG)\n",
    "\n",
    "#to format this\n",
    "f = logging.Formatter('%(asctime)s - %(levelname)s - %(message)s')\n",
    "\n",
    "#for file handler\n",
    "fh = logging.FileHandler('savetofile.log')\n",
    "fh.setFormatter(f)\n",
    "\n",
    "#to set this file hadler to logger\n",
    "logger.addHandler(fh)\n",
    "\n",
    "#now\n",
    "def namecheck2(name):\n",
    "    logger.info(f'we will going to check the length of {name} and let you know if its correct or not')\n",
    "    if len(name)<2:\n",
    "        logger.debug('checking for the name length...')\n",
    "        return 'Invalid Name'\n",
    "    elif name.isspace():\n",
    "        logger.debug('checking if the name has space...')\n",
    "        return 'Invalid Name'\n",
    "    elif name.isalpha():\n",
    "        logger.debug('checking if the name is Alphabet...')\n",
    "        return 'Name is Valid'\n",
    "        \n",
    "    else:\n",
    "        logger.debug('Failled all checks...')\n",
    "        return 'Invalid Name'\n",
    "\n",
    "print(namecheck2('Qwerty'))"
   ]
  },
  {
   "cell_type": "code",
   "execution_count": 22,
   "metadata": {},
   "outputs": [
    {
     "data": {
      "text/plain": [
       "{1: 'Ram', 2: 'James', 3: 'Vim', 5: 'Lab', 6: 'Game'}"
      ]
     },
     "execution_count": 22,
     "metadata": {},
     "output_type": "execute_result"
    }
   ],
   "source": [
    "data = {1:'Ram',2:'James',3:'Vim',5:'Lab'}\n",
    "data[5]\n",
    "data.get(2)\n",
    "\n",
    "data[6] = 'Game'\n",
    "data"
   ]
  },
  {
   "cell_type": "code",
   "execution_count": 1,
   "metadata": {},
   "outputs": [
    {
     "data": {
      "text/plain": [
       "dict_keys(['Zim', 'Cary', 'Marsh', 'Yolo', 'set'])"
      ]
     },
     "execution_count": 1,
     "metadata": {},
     "output_type": "execute_result"
    }
   ],
   "source": [
    "keys = ['Zim','Cary','Marsh','Yolo']\n",
    "salary = [3000,4000,2000,1500]\n",
    "\n",
    "data = dict(zip(keys,salary))\n",
    "data['set'] = 3,4,5\n",
    "data.keys()\n",
    "\n",
    "\n"
   ]
  },
  {
   "cell_type": "code",
   "execution_count": 27,
   "metadata": {},
   "outputs": [
    {
     "data": {
      "text/plain": [
       "15"
      ]
     },
     "execution_count": 27,
     "metadata": {},
     "output_type": "execute_result"
    }
   ],
   "source": [
    "\n",
    "def sum(a:int,b:int):\n",
    "    s = 0\n",
    "    s = a+b\n",
    "    return s\n",
    "\n",
    "sum(5,10)\n",
    "\n",
    "##Variable length arguments\n",
    "def variable(*argv):\n",
    "    for i in argv:\n",
    "        print(i)"
   ]
  },
  {
   "cell_type": "code",
   "execution_count": 3,
   "metadata": {},
   "outputs": [],
   "source": [
    "#Kafka producer with python\n",
    "#producer.py file\n",
    "import filecmp\n",
    "from kafka import kafkaProducer\n",
    "import json\n",
    "from data.py import get_user\n",
    "import time\n",
    "\n",
    "#lets define kafkaProducer\n",
    "\n",
    "#to serialize the data, here we have consideres it in json format \n",
    "def json_serializer(data):\n",
    "    return json.dumps(data).encode(\"utf-8\")\n",
    "\n",
    "producer = kafkaProducer(\n",
    "    bootstrap_servers = ['192.168.0.10:9092'],\n",
    "    value_serializer= json_serializer\n",
    "\n",
    ")\n",
    "\n",
    "\n",
    "if __name__ == \"__main__\":\n",
    "    while 1 == 1: #infinite loop\n",
    "        registered_user = get_registered_user()\n",
    "        producer.send(\"topic_name_to_send_the_msg\", registered_user)\n",
    "        time.sleep(4) #in every 4 sec it will publish the msg to topic\n"
   ]
  },
  {
   "cell_type": "code",
   "execution_count": 6,
   "metadata": {},
   "outputs": [
    {
     "name": "stdout",
     "output_type": "stream",
     "text": [
      "{'name': 'Grace Kim', 'address': '748 Barnett Island\\nMichaelmouth, TN 95957', 'created_at': '1988'}\n"
     ]
    }
   ],
   "source": [
    "#created another file like  where all the data generation will be done\n",
    "#data.py\n",
    "from faker import Faker\n",
    "\n",
    "fake = Faker()\n",
    "\n",
    "def get_user():\n",
    "    return{\n",
    "        \"name\":fake.name(),\n",
    "        \"address\":fake.address(),\n",
    "        \"created_at\":fake.year()\n",
    "    }\n",
    "\n",
    "print(get_user())"
   ]
  },
  {
   "cell_type": "markdown",
   "metadata": {},
   "source": []
  },
  {
   "cell_type": "markdown",
   "metadata": {},
   "source": []
  },
  {
   "cell_type": "markdown",
   "metadata": {},
   "source": [
    "## DSA"
   ]
  },
  {
   "cell_type": "markdown",
   "metadata": {},
   "source": [
    "- Bineary Search"
   ]
  },
  {
   "cell_type": "code",
   "execution_count": 5,
   "metadata": {},
   "outputs": [],
   "source": [
    "def b_search(nums, tar):\n",
    "\n",
    "    nums.sort()\n",
    "    low = 0\n",
    "    high = len(nums)-1\n",
    "    mid = 0\n",
    "\n",
    "    while low<=high:\n",
    "        mid = (low+high)//2\n",
    "\n",
    "        if nums[mid] == tar:\n",
    "            print(\"Element found location: \", mid)\n",
    "            return True\n",
    "            \n",
    "        else:\n",
    "            if tar<nums[mid]:\n",
    "                low = mid+1\n",
    "            else:\n",
    "                high = mid-1\n",
    "\n",
    "        return False\n",
    "\n",
    "\n",
    "if __name__ == \"__main__\" :\n",
    "    arr = [12,34,2,89,56,10,8,5,23,48,15]\n",
    "    k = 48\n",
    "    b_search(arr,k)"
   ]
  },
  {
   "cell_type": "markdown",
   "metadata": {},
   "source": [
    "- Hash Table"
   ]
  },
  {
   "cell_type": "code",
   "execution_count": null,
   "metadata": {},
   "outputs": [],
   "source": [
    "# Example of a Hash Function\n",
    "\n"
   ]
  }
 ],
 "metadata": {
  "interpreter": {
   "hash": "eab3a9e97ccb382a802d83481f14bb75577950cdf6c839f31aac5057978403cf"
  },
  "kernelspec": {
   "display_name": "Python 3.10.2 64-bit",
   "language": "python",
   "name": "python3"
  },
  "language_info": {
   "codemirror_mode": {
    "name": "ipython",
    "version": 3
   },
   "file_extension": ".py",
   "mimetype": "text/x-python",
   "name": "python",
   "nbconvert_exporter": "python",
   "pygments_lexer": "ipython3",
   "version": "3.10.2"
  },
  "orig_nbformat": 4
 },
 "nbformat": 4,
 "nbformat_minor": 2
}
